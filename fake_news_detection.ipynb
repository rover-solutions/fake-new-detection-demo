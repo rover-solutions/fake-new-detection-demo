{
  "cells": [
    {
      "attachments": {},
      "cell_type": "markdown",
      "metadata": {
        "id": "lSC5GxGgsTl_"
      },
      "source": [
        "<font size=\"5px\">**Detecção de Fake News com Redes Neurais Recorrentes**</font><br>\n",
        "\n",
        "<p align='justify'>\n",
        "<b>Definição do problema: </b> a partir uma base de dados, classificar se uma notícia é falsa ou verdadeira por meio da arquitetura de redes neurais recorrentes.<br><br>\n",
        "<b>Base de dados: </b> a base de dados foi obtida da competição do kaggle de 2017 para reconhecimento de <i>Fake new</i>. Pode ser encontrado link: <a href='https://www.kaggle.com/c/fake-news/data'>www.kaggle.com/fake-news</a>\n",
        "</p>\n"
      ]
    },
    {
      "cell_type": "code",
      "execution_count": null,
      "metadata": {
        "id": "OVNO-nyo38FY",
        "vscode": {
          "languageId": "python"
        }
      },
      "outputs": [],
      "source": [
        "import pandas as pd \n",
        "import matplotlib.pyplot as plt \n",
        "import seaborn as sns \n",
        "import re\n",
        "\n",
        "from sklearn.model_selection import train_test_split\n",
        "from sklearn.metrics import accuracy_score, confusion_matrix, precision_score\n",
        "\n",
        "from keras import Sequential\n",
        "from keras.layers import Embedding, Bidirectional, LSTM, Dense, Dropout\n",
        "from keras.preprocessing.text import Tokenizer\n",
        "from keras.preprocessing.sequence import pad_sequences\n",
        "from keras.callbacks import ModelCheckpoint, ReduceLROnPlateau\n",
        "from keras.losses import BinaryCrossentropy\n",
        "from keras.optimizers import Adam\n",
        "\n",
        "plt.style.use('ggplot')"
      ]
    },
    {
      "cell_type": "markdown",
      "metadata": {
        "id": "dBKx61WGRpxc"
      },
      "source": [
        "# Montagem da base\n",
        "\n",
        "<p align='justify'>\n",
        "&nbsp;&nbsp;&nbsp;&nbsp;Como base foram utilizados os dados disponíveis para a competição kaggle no desafio de montagem de um sistema que identifique notícias não confiáveis. Além disso, foram utilizadas bases de dados de outros participantes, assim criando uma base maior, contendo, ao todo, aproximadamente 44 mil registros. Sendo esses, divididos em duas bases diferentes, um contendo notícias verdadeiras, e outro contendo notícias falsas, com proporções similares entre as duas. Essas bases contendo as seguintes colunas:\n",
        "</p>\n",
        "<ul>\n",
        "<li>title: título da notícia</li>\n",
        "<li>text: conteudo da noticia, podendo por vezes estar incompleto</li>\n",
        "<li>subject: assunto da notícia</li>\n",
        "<li>date: data de publicação</li>\n",
        "</ul>"
      ]
    },
    {
      "cell_type": "code",
      "execution_count": null,
      "metadata": {
        "colab": {
          "base_uri": "https://localhost:8080/",
          "height": 419
        },
        "id": "LS3UubEwuO4h",
        "outputId": "3c75b5c3-f758-4b9a-ed03-0c719fb2b30d",
        "vscode": {
          "languageId": "python"
        }
      },
      "outputs": [
        {
          "data": {
            "text/html": [
              "<div>\n",
              "<style scoped>\n",
              "    .dataframe tbody tr th:only-of-type {\n",
              "        vertical-align: middle;\n",
              "    }\n",
              "\n",
              "    .dataframe tbody tr th {\n",
              "        vertical-align: top;\n",
              "    }\n",
              "\n",
              "    .dataframe thead th {\n",
              "        text-align: right;\n",
              "    }\n",
              "</style>\n",
              "<table border=\"1\" class=\"dataframe\">\n",
              "  <thead>\n",
              "    <tr style=\"text-align: right;\">\n",
              "      <th></th>\n",
              "      <th>title</th>\n",
              "      <th>text</th>\n",
              "      <th>subject</th>\n",
              "      <th>date</th>\n",
              "    </tr>\n",
              "  </thead>\n",
              "  <tbody>\n",
              "    <tr>\n",
              "      <th>0</th>\n",
              "      <td>Donald Trump Sends Out Embarrassing New Year’...</td>\n",
              "      <td>Donald Trump just couldn t wish all Americans ...</td>\n",
              "      <td>News</td>\n",
              "      <td>December 31, 2017</td>\n",
              "    </tr>\n",
              "    <tr>\n",
              "      <th>1</th>\n",
              "      <td>Drunk Bragging Trump Staffer Started Russian ...</td>\n",
              "      <td>House Intelligence Committee Chairman Devin Nu...</td>\n",
              "      <td>News</td>\n",
              "      <td>December 31, 2017</td>\n",
              "    </tr>\n",
              "    <tr>\n",
              "      <th>2</th>\n",
              "      <td>Sheriff David Clarke Becomes An Internet Joke...</td>\n",
              "      <td>On Friday, it was revealed that former Milwauk...</td>\n",
              "      <td>News</td>\n",
              "      <td>December 30, 2017</td>\n",
              "    </tr>\n",
              "    <tr>\n",
              "      <th>3</th>\n",
              "      <td>Trump Is So Obsessed He Even Has Obama’s Name...</td>\n",
              "      <td>On Christmas day, Donald Trump announced that ...</td>\n",
              "      <td>News</td>\n",
              "      <td>December 29, 2017</td>\n",
              "    </tr>\n",
              "    <tr>\n",
              "      <th>4</th>\n",
              "      <td>Pope Francis Just Called Out Donald Trump Dur...</td>\n",
              "      <td>Pope Francis used his annual Christmas Day mes...</td>\n",
              "      <td>News</td>\n",
              "      <td>December 25, 2017</td>\n",
              "    </tr>\n",
              "    <tr>\n",
              "      <th>...</th>\n",
              "      <td>...</td>\n",
              "      <td>...</td>\n",
              "      <td>...</td>\n",
              "      <td>...</td>\n",
              "    </tr>\n",
              "    <tr>\n",
              "      <th>23476</th>\n",
              "      <td>McPain: John McCain Furious That Iran Treated ...</td>\n",
              "      <td>21st Century Wire says As 21WIRE reported earl...</td>\n",
              "      <td>Middle-east</td>\n",
              "      <td>January 16, 2016</td>\n",
              "    </tr>\n",
              "    <tr>\n",
              "      <th>23477</th>\n",
              "      <td>JUSTICE? Yahoo Settles E-mail Privacy Class-ac...</td>\n",
              "      <td>21st Century Wire says It s a familiar theme. ...</td>\n",
              "      <td>Middle-east</td>\n",
              "      <td>January 16, 2016</td>\n",
              "    </tr>\n",
              "    <tr>\n",
              "      <th>23478</th>\n",
              "      <td>Sunnistan: US and Allied ‘Safe Zone’ Plan to T...</td>\n",
              "      <td>Patrick Henningsen  21st Century WireRemember ...</td>\n",
              "      <td>Middle-east</td>\n",
              "      <td>January 15, 2016</td>\n",
              "    </tr>\n",
              "    <tr>\n",
              "      <th>23479</th>\n",
              "      <td>How to Blow $700 Million: Al Jazeera America F...</td>\n",
              "      <td>21st Century Wire says Al Jazeera America will...</td>\n",
              "      <td>Middle-east</td>\n",
              "      <td>January 14, 2016</td>\n",
              "    </tr>\n",
              "    <tr>\n",
              "      <th>23480</th>\n",
              "      <td>10 U.S. Navy Sailors Held by Iranian Military ...</td>\n",
              "      <td>21st Century Wire says As 21WIRE predicted in ...</td>\n",
              "      <td>Middle-east</td>\n",
              "      <td>January 12, 2016</td>\n",
              "    </tr>\n",
              "  </tbody>\n",
              "</table>\n",
              "<p>23481 rows × 4 columns</p>\n",
              "</div>"
            ],
            "text/plain": [
              "                                                   title  ...               date\n",
              "0       Donald Trump Sends Out Embarrassing New Year’...  ...  December 31, 2017\n",
              "1       Drunk Bragging Trump Staffer Started Russian ...  ...  December 31, 2017\n",
              "2       Sheriff David Clarke Becomes An Internet Joke...  ...  December 30, 2017\n",
              "3       Trump Is So Obsessed He Even Has Obama’s Name...  ...  December 29, 2017\n",
              "4       Pope Francis Just Called Out Donald Trump Dur...  ...  December 25, 2017\n",
              "...                                                  ...  ...                ...\n",
              "23476  McPain: John McCain Furious That Iran Treated ...  ...   January 16, 2016\n",
              "23477  JUSTICE? Yahoo Settles E-mail Privacy Class-ac...  ...   January 16, 2016\n",
              "23478  Sunnistan: US and Allied ‘Safe Zone’ Plan to T...  ...   January 15, 2016\n",
              "23479  How to Blow $700 Million: Al Jazeera America F...  ...   January 14, 2016\n",
              "23480  10 U.S. Navy Sailors Held by Iranian Military ...  ...   January 12, 2016\n",
              "\n",
              "[23481 rows x 4 columns]"
            ]
          },
          "execution_count": 2,
          "metadata": {
            "tags": []
          },
          "output_type": "execute_result"
        }
      ],
      "source": [
        "_fake_news_dataset_url = 'https://github.com/rover-solutions/fake-new-detection-demo/raw/main/data/fake_news.csv'\n",
        "_fake_news_data = pd.read_csv(_fake_news_dataset_url)\n",
        "\n",
        "_reliable_news_dataset_url = 'https://github.com/rover-solutions/fake-new-detection-demo/raw/main/data/reliable_news.csv'\n",
        "_reliable_news_data = pd.read_csv(_reliable_news_dataset_url)\n",
        "\n",
        "_fake_news_data"
      ]
    },
    {
      "cell_type": "code",
      "execution_count": null,
      "metadata": {
        "colab": {
          "base_uri": "https://localhost:8080/"
        },
        "id": "tskbXqqF0S8x",
        "outputId": "c86dbb33-0cc1-4d60-8f00-df88fcf59214",
        "vscode": {
          "languageId": "python"
        }
      },
      "outputs": [
        {
          "data": {
            "text/plain": [
              "title      0\n",
              "text       0\n",
              "subject    0\n",
              "date       0\n",
              "dtype: int64"
            ]
          },
          "execution_count": 3,
          "metadata": {
            "tags": []
          },
          "output_type": "execute_result"
        }
      ],
      "source": [
        "_fake_news_data.isnull().sum()"
      ]
    },
    {
      "cell_type": "code",
      "execution_count": null,
      "metadata": {
        "id": "5fECqrZM3W4w",
        "vscode": {
          "languageId": "python"
        }
      },
      "outputs": [],
      "source": [
        "_fake_news_data.drop(['date', 'subject'], axis=1, inplace=True)\n",
        "_reliable_news_data.drop(['date', 'subject'], axis=1, inplace=True)"
      ]
    },
    {
      "cell_type": "code",
      "execution_count": null,
      "metadata": {
        "id": "KjES82t33fg4",
        "vscode": {
          "languageId": "python"
        }
      },
      "outputs": [],
      "source": [
        "_fake_news_data['class'] = 0 \n",
        "_reliable_news_data['class'] = 1"
      ]
    },
    {
      "cell_type": "code",
      "execution_count": null,
      "metadata": {
        "colab": {
          "base_uri": "https://localhost:8080/"
        },
        "id": "Ogi56QHh3j6V",
        "outputId": "7c63f6d9-3966-4dbd-d9b4-83122f313848",
        "vscode": {
          "languageId": "python"
        }
      },
      "outputs": [
        {
          "data": {
            "text/plain": [
              "23481"
            ]
          },
          "execution_count": 6,
          "metadata": {
            "tags": []
          },
          "output_type": "execute_result"
        }
      ],
      "source": [
        "_fake_news_data['class'].count()"
      ]
    },
    {
      "cell_type": "code",
      "execution_count": null,
      "metadata": {
        "colab": {
          "base_uri": "https://localhost:8080/",
          "height": 376
        },
        "id": "vQStHN9NsToO",
        "outputId": "ee6afb38-4d50-455c-8316-4d87378a2eae",
        "vscode": {
          "languageId": "python"
        }
      },
      "outputs": [
        {
          "data": {
            "text/plain": [
              "Text(0, 0.5, 'Proporção de artigos de notícias')"
            ]
          },
          "execution_count": 7,
          "metadata": {
            "tags": []
          },
          "output_type": "execute_result"
        },
        {
          "data": {
            "image/png": "[encoded data removed]",
            "text/plain": [
              "<Figure size 720x360 with 1 Axes>"
            ]
          },
          "metadata": {
            "needs_background": "light",
            "tags": []
          },
          "output_type": "display_data"
        }
      ],
      "source": [
        "_size_fake_news, _size_reliable_new = len(_fake_news_data), len(_reliable_news_data)\n",
        "_total_record = _size_fake_news + _size_reliable_new\n",
        "\n",
        "plt.figure(figsize=(10, 5))\n",
        "plt.bar('Notícias falsas', _size_fake_news / _total_record, color='red')\n",
        "plt.bar('Notícias confiáveis', _size_reliable_new / _total_record, color='green')\n",
        "plt.title('Distribuição de notícias falsas e notícias confiáveis', size=15)\n",
        "plt.xlabel('Tipo de Notícias', size=15)\n",
        "plt.ylabel('Proporção de artigos de notícias', size=15)"
      ]
    },
    {
      "cell_type": "markdown",
      "metadata": {
        "id": "wIZtR2hvRwhm"
      },
      "source": [
        "#Tratamento dos dados\n",
        "\n",
        "<p align=\"justify\">Para o treinamento do modelo, fora concatenadas as colunas title e text, isso por que, ambas as colunas possuem uma relação muito íntima na determinação da varassidade de uma noticia, portanto não faria sentido termos esses dados em coluna separadas.</p>"
      ]
    },
    {
      "cell_type": "code",
      "execution_count": null,
      "metadata": {
        "colab": {
          "base_uri": "https://localhost:8080/",
          "height": 419
        },
        "id": "OqlYXUL5srCD",
        "outputId": "b6acf75b-d2ff-4276-f959-6c210f8bddc3",
        "vscode": {
          "languageId": "python"
        }
      },
      "outputs": [
        {
          "data": {
            "text/html": [
              "<div>\n",
              "<style scoped>\n",
              "    .dataframe tbody tr th:only-of-type {\n",
              "        vertical-align: middle;\n",
              "    }\n",
              "\n",
              "    .dataframe tbody tr th {\n",
              "        vertical-align: top;\n",
              "    }\n",
              "\n",
              "    .dataframe thead th {\n",
              "        text-align: right;\n",
              "    }\n",
              "</style>\n",
              "<table border=\"1\" class=\"dataframe\">\n",
              "  <thead>\n",
              "    <tr style=\"text-align: right;\">\n",
              "      <th></th>\n",
              "      <th>text</th>\n",
              "      <th>class</th>\n",
              "    </tr>\n",
              "  </thead>\n",
              "  <tbody>\n",
              "    <tr>\n",
              "      <th>0</th>\n",
              "      <td>Donald Trump Sends Out Embarrassing New Year’...</td>\n",
              "      <td>0</td>\n",
              "    </tr>\n",
              "    <tr>\n",
              "      <th>1</th>\n",
              "      <td>Drunk Bragging Trump Staffer Started Russian ...</td>\n",
              "      <td>0</td>\n",
              "    </tr>\n",
              "    <tr>\n",
              "      <th>2</th>\n",
              "      <td>Sheriff David Clarke Becomes An Internet Joke...</td>\n",
              "      <td>0</td>\n",
              "    </tr>\n",
              "    <tr>\n",
              "      <th>3</th>\n",
              "      <td>Trump Is So Obsessed He Even Has Obama’s Name...</td>\n",
              "      <td>0</td>\n",
              "    </tr>\n",
              "    <tr>\n",
              "      <th>4</th>\n",
              "      <td>Pope Francis Just Called Out Donald Trump Dur...</td>\n",
              "      <td>0</td>\n",
              "    </tr>\n",
              "    <tr>\n",
              "      <th>...</th>\n",
              "      <td>...</td>\n",
              "      <td>...</td>\n",
              "    </tr>\n",
              "    <tr>\n",
              "      <th>44893</th>\n",
              "      <td>'Fully committed' NATO backs new U.S. approach...</td>\n",
              "      <td>1</td>\n",
              "    </tr>\n",
              "    <tr>\n",
              "      <th>44894</th>\n",
              "      <td>LexisNexis withdrew two products from Chinese ...</td>\n",
              "      <td>1</td>\n",
              "    </tr>\n",
              "    <tr>\n",
              "      <th>44895</th>\n",
              "      <td>Minsk cultural hub becomes haven from authorit...</td>\n",
              "      <td>1</td>\n",
              "    </tr>\n",
              "    <tr>\n",
              "      <th>44896</th>\n",
              "      <td>Vatican upbeat on possibility of Pope Francis ...</td>\n",
              "      <td>1</td>\n",
              "    </tr>\n",
              "    <tr>\n",
              "      <th>44897</th>\n",
              "      <td>Indonesia to buy $1.14 billion worth of Russia...</td>\n",
              "      <td>1</td>\n",
              "    </tr>\n",
              "  </tbody>\n",
              "</table>\n",
              "<p>44898 rows × 2 columns</p>\n",
              "</div>"
            ],
            "text/plain": [
              "                                                    text  class\n",
              "0       Donald Trump Sends Out Embarrassing New Year’...      0\n",
              "1       Drunk Bragging Trump Staffer Started Russian ...      0\n",
              "2       Sheriff David Clarke Becomes An Internet Joke...      0\n",
              "3       Trump Is So Obsessed He Even Has Obama’s Name...      0\n",
              "4       Pope Francis Just Called Out Donald Trump Dur...      0\n",
              "...                                                  ...    ...\n",
              "44893  'Fully committed' NATO backs new U.S. approach...      1\n",
              "44894  LexisNexis withdrew two products from Chinese ...      1\n",
              "44895  Minsk cultural hub becomes haven from authorit...      1\n",
              "44896  Vatican upbeat on possibility of Pope Francis ...      1\n",
              "44897  Indonesia to buy $1.14 billion worth of Russia...      1\n",
              "\n",
              "[44898 rows x 2 columns]"
            ]
          },
          "execution_count": 8,
          "metadata": {
            "tags": []
          },
          "output_type": "execute_result"
        }
      ],
      "source": [
        "_data = pd.concat([_fake_news_data, _reliable_news_data], ignore_index=True, sort=False)\n",
        "_data['text'] = _data['title'] + _data['text']\n",
        "_data.drop('title', axis=1, inplace=True)\n",
        "_data"
      ]
    },
    {
      "cell_type": "code",
      "execution_count": null,
      "metadata": {
        "id": "uy7Z7L-xsyEQ",
        "vscode": {
          "languageId": "python"
        }
      },
      "outputs": [],
      "source": [
        "X_train, X_test, y_train, y_test = train_test_split(_data['text'] , _data['class'] , test_size=0.20, random_state=18)"
      ]
    },
    {
      "cell_type": "markdown",
      "metadata": {
        "id": "7HkUAtPoR3NO"
      },
      "source": [
        "#Tratamento dos dados\n",
        "\n",
        "<p align=\"justify\">Foram também removidos caracteres especiais e/ou não importates para o contexto de veracidade da notícia.</p>"
      ]
    },
    {
      "cell_type": "code",
      "execution_count": null,
      "metadata": {
        "id": "JvExUIXo7pAu",
        "vscode": {
          "languageId": "python"
        }
      },
      "outputs": [],
      "source": [
        "def normalize(data):\n",
        "    normalized = list()\n",
        "\n",
        "    for row in data:\n",
        "        row = row.lower()\n",
        "        row = re.sub('https?://\\S+|www\\.\\S+', '', row)\n",
        "        row = re.sub('\\n',    ' ', row)\n",
        "        row = re.sub('\\\\W',   ' ', row)\n",
        "        row = re.sub('\\s+',   ' ', row)\n",
        "        row = re.sub('[+^$]', '', row)\n",
        "        row = re.sub('^\\s+',  '', row)\n",
        "        row = re.sub(\"\\s+$\",  '', row)\n",
        "        normalized.append(row)\n",
        "    return normalized\n",
        "\n",
        "X_train = normalize(X_train)\n",
        "X_test = normalize(X_test)"
      ]
    },
    {
      "cell_type": "markdown",
      "metadata": {
        "id": "eFw-D3CdR-0O"
      },
      "source": [
        "#Tratamento dos dados\n",
        "\n",
        "<p align=\"justify\">Por fim, é criado um <code>Tokenizer</code>, que é utilizado para \"tokenizar\" as bases de treino e teste. Ou seja, primeiro é criado um dicionário com base na base de treinamento, indexando cada palavra a um número inteiro qualquer, e então com base nesse dicionário, as bases de treino e teste tem cada uma de suas palavras substituidas pelos seus respectivos indices.</p>"
      ]
    },
    {
      "cell_type": "code",
      "execution_count": null,
      "metadata": {
        "id": "PpwpsWb2tN8Q",
        "vscode": {
          "languageId": "python"
        }
      },
      "outputs": [],
      "source": [
        "_maximum_vocabulary = 10000\n",
        "_tokenizer = Tokenizer(num_words=_maximum_vocabulary)\n",
        "_tokenizer.fit_on_texts(X_train)"
      ]
    },
    {
      "cell_type": "code",
      "execution_count": null,
      "metadata": {
        "id": "ikT23rQGtQdu",
        "vscode": {
          "languageId": "python"
        }
      },
      "outputs": [],
      "source": [
        "# tokenize the text into vectors \n",
        "X_train = _tokenizer.texts_to_sequences(X_train)\n",
        "X_test = _tokenizer.texts_to_sequences(X_test)"
      ]
    },
    {
      "cell_type": "code",
      "execution_count": null,
      "metadata": {
        "id": "bf3zRt14tSpQ",
        "vscode": {
          "languageId": "python"
        }
      },
      "outputs": [],
      "source": [
        "X_train = pad_sequences(X_train, padding='post', maxlen=256)\n",
        "X_test = pad_sequences(X_test, padding='post', maxlen=256)"
      ]
    },
    {
      "cell_type": "markdown",
      "metadata": {
        "id": "dx3iu7JqbJ2b"
      },
      "source": [
        "# Criação do modelo - Arquitetura\n",
        "<p align='justify'>&nbsp;&nbsp;&nbsp;&nbsp;&nbsp;&nbsp;&nbsp;&nbsp;&nbsp;A estrutura proposta para solução do problema está divida em uma entrada de dados, quatro camadas internas utilizando a técnica bidicionariedade, provendo uma memória a longo prazo e, uma camada de saída, segue abaixo fluxo da rede:</p><br>\n",
        "<p align='center'><img src=\"https://github.com/chsponciano/fake-new-detection-rnn/raw/main/network-representation.png\"></p><br>\n",
        "<p align='justify'>&nbsp;&nbsp;&nbsp;&nbsp;&nbsp;&nbsp;&nbsp;&nbsp;&nbsp;Primeiramente recebemos os dados(textos) e por meio da camada <i>Embedding</i> quebramos os dados em vetores densos para que possamos ter uma projeção em uma espaço vetorial contínuo, ou seja, colocar cada dado(palavras do texto) em uma posição única.<br><br>\n",
        "&nbsp;&nbsp;&nbsp;&nbsp;&nbsp;&nbsp;&nbsp;&nbsp;&nbsp;Em seguida inicia o processo de recorrência, que por sua vez utiliza duas camadas bidirecionais sendo que a primeira possui 64 neurônios e a segunda 16, nesta etapa é feita a projeção dos dados durante o passar épocas utilizando dados do passado para o futuro (<i>forward</i>) e do futuro para o passado (<i>backward</i>).<br><br>\n",
        "&nbsp;&nbsp;&nbsp;&nbsp;&nbsp;&nbsp;&nbsp;&nbsp;&nbsp;&nbsp;&nbsp;Um ponto a destacar é diferença na utilizando de LSTM em cascata e a técnica de bidirecionalidade, o LSTM armazena informações apenas do passado para o futuro assim não tem a possibilidade de prever anomalias entre futuro e passado. Já ao utilizar a bidirecionalidade temos dois LSTMs provendo uma unidirecionalidade.\n",
        "Por fim, uma camada densa de 64 neurônios com a técnica de <i>dropout</i> para assim diminuir o <i>overfitting</i>(caminho feliz) tendo a ativação ReLu(>= 0).</p><br>\n"
      ]
    },
    {
      "cell_type": "code",
      "execution_count": null,
      "metadata": {
        "colab": {
          "base_uri": "https://localhost:8080/"
        },
        "id": "fkdOcG6CtUit",
        "outputId": "ea1eb585-7e44-46df-f484-cc6a8eca29f8",
        "vscode": {
          "languageId": "python"
        }
      },
      "outputs": [
        {
          "name": "stdout",
          "output_type": "stream",
          "text": [
            "Model: \"sequential\"\n",
            "_________________________________________________________________\n",
            "Layer (type)                 Output Shape              Param #   \n",
            "=================================================================\n",
            "embedding (Embedding)        (None, None, 32)          320000    \n",
            "_________________________________________________________________\n",
            "bidirectional (Bidirectional (None, None, 128)         49664     \n",
            "_________________________________________________________________\n",
            "bidirectional_1 (Bidirection (None, 32)                18560     \n",
            "_________________________________________________________________\n",
            "dense (Dense)                (None, 64)                2112      \n",
            "_________________________________________________________________\n",
            "dropout (Dropout)            (None, 64)                0         \n",
            "_________________________________________________________________\n",
            "dense_1 (Dense)              (None, 1)                 65        \n",
            "=================================================================\n",
            "Total params: 390,401\n",
            "Trainable params: 390,401\n",
            "Non-trainable params: 0\n",
            "_________________________________________________________________\n"
          ]
        }
      ],
      "source": [
        "_model = Sequential()\n",
        "_model.add(Embedding(_maximum_vocabulary, 32))\n",
        "_model.add(Bidirectional(LSTM(64,  return_sequences=True)))\n",
        "_model.add(Bidirectional(LSTM(16)))\n",
        "_model.add(Dense(64, activation='relu'))\n",
        "_model.add(Dropout(0.5))\n",
        "_model.add(Dense(1))\n",
        "\n",
        "_model.summary()"
      ]
    },
    {
      "cell_type": "markdown",
      "metadata": {
        "id": "4XHtmLrnDi89"
      },
      "source": [
        "# Criação do modelo - Callbacks\n",
        "<p align='justify'>\n",
        "<b><i>ModelCheckpoint:</i></b> durante o processo de treinamento, essa callback monitora uma variável métrica e salva os pesos do modelo com base no melhor resultado.<br><br>\n",
        "<b><i>ReduceLROnPlateau:</i></b> durante o processo de treinamento, caso não haja diminuição na taxa de erro durante X épocas, essa callback, auxilia na redução da taxa de aprendizado pelo fator Y.</p>"
      ]
    },
    {
      "cell_type": "code",
      "execution_count": null,
      "metadata": {
        "id": "1ob1eWEgtWys",
        "vscode": {
          "languageId": "python"
        }
      },
      "outputs": [],
      "source": [
        "_verbose = 1\n",
        "_path = 'learning_weights.hdf5'\n",
        "_alpha=1e-5\n",
        "\n",
        "_checkpoint = ModelCheckpoint(_path, monitor='val_accuracy', save_best_only=True, mode='max', verbose=_verbose)\n",
        "_plateau = ReduceLROnPlateau(monitor='val_accuracy', factor=0.1, min_delta=_alpha, patience=5, verbose=_verbose)"
      ]
    },
    {
      "cell_type": "markdown",
      "metadata": {
        "id": "-DJYhVSDEf6U"
      },
      "source": [
        "#Criação do modelo - Métricas\n",
        "\n",
        "<p align='justify'>\n",
        "<b><i>BinaryCrossentropy:</i></b> efetua uma validação cruzada onde retorna apenas 0 ou 1.<br><br>\n",
        "<b><i>Adam:</i></b> otimizador que utiliza o método da descida do gradiente, baseando-se na estimativa de adapção dos dados.<br> \n",
        "</p>"
      ]
    },
    {
      "cell_type": "code",
      "execution_count": null,
      "metadata": {
        "colab": {
          "base_uri": "https://localhost:8080/"
        },
        "id": "vD_iiCnhHbex",
        "outputId": "2b54c210-922d-46d2-f9c0-8481c13c5994",
        "vscode": {
          "languageId": "python"
        }
      },
      "outputs": [
        {
          "name": "stdout",
          "output_type": "stream",
          "text": [
            "Epoch 1/20\n",
            "1078/1078 [==============================] - ETA: 0s - loss: 0.2924 - accuracy: 0.8560\n",
            "Epoch 00001: val_accuracy improved from -inf to 0.97578, saving model to learning_weights.hdf5\n",
            "1078/1078 [==============================] - 391s 363ms/step - loss: 0.2924 - accuracy: 0.8560 - val_loss: 0.0803 - val_accuracy: 0.9758\n",
            "Epoch 2/20\n",
            "1078/1078 [==============================] - ETA: 0s - loss: 0.0697 - accuracy: 0.9811\n",
            "Epoch 00002: val_accuracy improved from 0.97578 to 0.97773, saving model to learning_weights.hdf5\n",
            "1078/1078 [==============================] - 395s 366ms/step - loss: 0.0697 - accuracy: 0.9811 - val_loss: 0.0818 - val_accuracy: 0.9777\n",
            "Epoch 3/20\n",
            "1078/1078 [==============================] - ETA: 0s - loss: 0.0435 - accuracy: 0.9883\n",
            "Epoch 00003: val_accuracy improved from 0.97773 to 0.98552, saving model to learning_weights.hdf5\n",
            "1078/1078 [==============================] - 396s 368ms/step - loss: 0.0435 - accuracy: 0.9883 - val_loss: 0.0450 - val_accuracy: 0.9855\n",
            "Epoch 4/20\n",
            "1078/1078 [==============================] - ETA: 0s - loss: 0.0224 - accuracy: 0.9947\n",
            "Epoch 00004: val_accuracy did not improve from 0.98552\n",
            "1078/1078 [==============================] - 392s 364ms/step - loss: 0.0224 - accuracy: 0.9947 - val_loss: 0.0554 - val_accuracy: 0.9825\n",
            "Epoch 5/20\n",
            "1078/1078 [==============================] - ETA: 0s - loss: 0.0163 - accuracy: 0.9961\n",
            "Epoch 00005: val_accuracy improved from 0.98552 to 0.98831, saving model to learning_weights.hdf5\n",
            "1078/1078 [==============================] - 394s 365ms/step - loss: 0.0163 - accuracy: 0.9961 - val_loss: 0.0385 - val_accuracy: 0.9883\n",
            "Epoch 6/20\n",
            "1078/1078 [==============================] - ETA: 0s - loss: 0.0109 - accuracy: 0.9976\n",
            "Epoch 00006: val_accuracy improved from 0.98831 to 0.98942, saving model to learning_weights.hdf5\n",
            "1078/1078 [==============================] - 395s 366ms/step - loss: 0.0109 - accuracy: 0.9976 - val_loss: 0.0384 - val_accuracy: 0.9894\n",
            "Epoch 7/20\n",
            "1078/1078 [==============================] - ETA: 0s - loss: 0.0063 - accuracy: 0.9984\n",
            "Epoch 00007: val_accuracy improved from 0.98942 to 0.99109, saving model to learning_weights.hdf5\n",
            "1078/1078 [==============================] - 390s 361ms/step - loss: 0.0063 - accuracy: 0.9984 - val_loss: 0.0381 - val_accuracy: 0.9911\n",
            "Epoch 8/20\n",
            "1078/1078 [==============================] - ETA: 0s - loss: 0.0060 - accuracy: 0.9987\n",
            "Epoch 00008: val_accuracy did not improve from 0.99109\n",
            "1078/1078 [==============================] - 391s 363ms/step - loss: 0.0060 - accuracy: 0.9987 - val_loss: 0.0373 - val_accuracy: 0.9905\n",
            "Epoch 9/20\n",
            "1078/1078 [==============================] - ETA: 0s - loss: 0.0050 - accuracy: 0.9988\n",
            "Epoch 00009: val_accuracy improved from 0.99109 to 0.99304, saving model to learning_weights.hdf5\n",
            "1078/1078 [==============================] - 390s 362ms/step - loss: 0.0050 - accuracy: 0.9988 - val_loss: 0.0392 - val_accuracy: 0.9930\n",
            "Epoch 10/20\n",
            "1078/1078 [==============================] - ETA: 0s - loss: 0.0029 - accuracy: 0.9994\n",
            "Epoch 00010: val_accuracy did not improve from 0.99304\n",
            "1078/1078 [==============================] - 389s 361ms/step - loss: 0.0029 - accuracy: 0.9994 - val_loss: 0.0483 - val_accuracy: 0.9903\n",
            "Epoch 11/20\n",
            "1078/1078 [==============================] - ETA: 0s - loss: 0.0055 - accuracy: 0.9990\n",
            "Epoch 00011: val_accuracy did not improve from 0.99304\n",
            "1078/1078 [==============================] - 388s 360ms/step - loss: 0.0055 - accuracy: 0.9990 - val_loss: 0.0393 - val_accuracy: 0.9925\n",
            "Epoch 12/20\n",
            "1078/1078 [==============================] - ETA: 0s - loss: 0.0028 - accuracy: 0.9994\n",
            "Epoch 00012: val_accuracy did not improve from 0.99304\n",
            "1078/1078 [==============================] - 397s 368ms/step - loss: 0.0028 - accuracy: 0.9994 - val_loss: 0.0455 - val_accuracy: 0.9891\n",
            "Epoch 13/20\n",
            "1078/1078 [==============================] - ETA: 0s - loss: 0.0032 - accuracy: 0.9992\n",
            "Epoch 00013: val_accuracy did not improve from 0.99304\n",
            "1078/1078 [==============================] - 395s 367ms/step - loss: 0.0032 - accuracy: 0.9992 - val_loss: 0.0489 - val_accuracy: 0.9914\n",
            "Epoch 14/20\n",
            "1078/1078 [==============================] - ETA: 0s - loss: 0.0013 - accuracy: 0.9998\n",
            "Epoch 00014: val_accuracy did not improve from 0.99304\n",
            "\n",
            "Epoch 00014: ReduceLROnPlateau reducing learning rate to 9.999999747378752e-06.\n",
            "1078/1078 [==============================] - 398s 369ms/step - loss: 0.0013 - accuracy: 0.9998 - val_loss: 0.0483 - val_accuracy: 0.9908\n",
            "Epoch 15/20\n",
            "1078/1078 [==============================] - ETA: 0s - loss: 9.2949e-04 - accuracy: 0.9998\n",
            "Epoch 00015: val_accuracy did not improve from 0.99304\n",
            "1078/1078 [==============================] - 390s 362ms/step - loss: 9.2949e-04 - accuracy: 0.9998 - val_loss: 0.0573 - val_accuracy: 0.9900\n",
            "Epoch 16/20\n",
            "1078/1078 [==============================] - ETA: 0s - loss: 0.0010 - accuracy: 0.9999\n",
            "Epoch 00016: val_accuracy did not improve from 0.99304\n",
            "1078/1078 [==============================] - 390s 362ms/step - loss: 0.0010 - accuracy: 0.9999 - val_loss: 0.0575 - val_accuracy: 0.9903\n",
            "Epoch 17/20\n",
            "1078/1078 [==============================] - ETA: 0s - loss: 7.9089e-04 - accuracy: 0.9999\n",
            "Epoch 00017: val_accuracy did not improve from 0.99304\n",
            "1078/1078 [==============================] - 390s 361ms/step - loss: 7.9089e-04 - accuracy: 0.9999 - val_loss: 0.0588 - val_accuracy: 0.9900\n",
            "Epoch 18/20\n",
            "1078/1078 [==============================] - ETA: 0s - loss: 7.7665e-04 - accuracy: 0.9999\n",
            "Epoch 00018: val_accuracy did not improve from 0.99304\n",
            "1078/1078 [==============================] - 386s 358ms/step - loss: 7.7665e-04 - accuracy: 0.9999 - val_loss: 0.0618 - val_accuracy: 0.9905\n",
            "Epoch 19/20\n",
            "1078/1078 [==============================] - ETA: 0s - loss: 8.6872e-04 - accuracy: 0.9999\n",
            "Epoch 00019: val_accuracy did not improve from 0.99304\n",
            "\n",
            "Epoch 00019: ReduceLROnPlateau reducing learning rate to 9.999999747378752e-07.\n",
            "1078/1078 [==============================] - 386s 358ms/step - loss: 8.6872e-04 - accuracy: 0.9999 - val_loss: 0.0654 - val_accuracy: 0.9908\n",
            "Epoch 20/20\n",
            "1078/1078 [==============================] - ETA: 0s - loss: 8.2755e-04 - accuracy: 0.9999\n",
            "Epoch 00020: val_accuracy did not improve from 0.99304\n",
            "1078/1078 [==============================] - 390s 362ms/step - loss: 8.2755e-04 - accuracy: 0.9999 - val_loss: 0.0655 - val_accuracy: 0.9908\n"
          ]
        }
      ],
      "source": [
        "_epochs = 20\n",
        "_batch_size = 30\n",
        "\n",
        "_model.compile(loss=BinaryCrossentropy(from_logits=True), optimizer=Adam(1e-4), metrics=['accuracy'])\n",
        "_history = _model.fit(X_train, y_train, epochs=_epochs, validation_split=0.1, batch_size=_batch_size, shuffle=True, callbacks=[_checkpoint, _plateau])\n",
        "_history_data = _history.history"
      ]
    },
    {
      "cell_type": "markdown",
      "metadata": {
        "id": "k95YwThHUBKw"
      },
      "source": [
        "#Resultados\n",
        "\n",
        "<p align=\"justify\">Com um treinamento de 20 épocas, o modelo apresentou resultados muito interessantes, obtendo 99,06% de acurácia e 98,79% de precisão, nos dados de validação. Possuindo um tempo de treinamento de aproximadamente 3 horas no colab.</p>"
      ]
    },
    {
      "cell_type": "code",
      "execution_count": null,
      "metadata": {
        "colab": {
          "base_uri": "https://localhost:8080/",
          "height": 584
        },
        "id": "tsiObztLtZo3",
        "outputId": "dd23af69-319d-4fc4-ab64-a98679082ebd",
        "vscode": {
          "languageId": "python"
        }
      },
      "outputs": [
        {
          "data": {
            "image/png": "[encoded data removed]",
            "text/plain": [
              "<Figure size 864x648 with 1 Axes>"
            ]
          },
          "metadata": {
            "needs_background": "light",
            "tags": []
          },
          "output_type": "display_data"
        }
      ],
      "source": [
        "plt.figure(figsize=(12,9))\n",
        "plt.plot(_history.epoch, _history_data['loss'], 'r', label='Perda de treinamento')\n",
        "plt.plot(_history.epoch, _history_data['val_loss'], 'b', label='Perda de validação')\n",
        "plt.title('Perda de treinamento e validação', size=20)\n",
        "plt.xlabel('Épocas', size=20)\n",
        "plt.ylabel('Perda', size=20)\n",
        "plt.legend(prop={'size': 20})\n",
        "plt.show()"
      ]
    },
    {
      "cell_type": "code",
      "execution_count": null,
      "metadata": {
        "colab": {
          "base_uri": "https://localhost:8080/",
          "height": 585
        },
        "id": "TbkG-expJxB8",
        "outputId": "aca99052-f12e-4410-d966-b247e6a061bf",
        "vscode": {
          "languageId": "python"
        }
      },
      "outputs": [
        {
          "data": {
            "image/png": "[encoded data removed]",
            "text/plain": [
              "<Figure size 864x648 with 1 Axes>"
            ]
          },
          "metadata": {
            "needs_background": "light",
            "tags": []
          },
          "output_type": "display_data"
        }
      ],
      "source": [
        "plt.figure(figsize=(12,9))\n",
        "plt.plot(_history.epoch, _history_data['accuracy'], 'g', label='Treinamento')\n",
        "plt.plot(_history.epoch, _history_data['val_accuracy'], 'b', label='Validação')\n",
        "plt.title('Acurácia de treinamento e validação', size=20)\n",
        "plt.xlabel('Épocas', size=20)\n",
        "plt.ylabel('Acurácia', size=20)\n",
        "plt.legend(prop={'size': 20})\n",
        "plt.ylim((0.5,1))\n",
        "plt.show()"
      ]
    },
    {
      "cell_type": "code",
      "execution_count": null,
      "metadata": {
        "colab": {
          "base_uri": "https://localhost:8080/"
        },
        "id": "vQNUCtbvtdNi",
        "outputId": "5450a754-08b9-4b46-e9c2-40bbdf2c911b",
        "vscode": {
          "languageId": "python"
        }
      },
      "outputs": [
        {
          "name": "stdout",
          "output_type": "stream",
          "text": [
            "281/281 [==============================] - 21s 74ms/step - loss: 0.0621 - accuracy: 0.9906\n",
            "Acurácia: 0.9906458797327394\n",
            "Precissão: 0.9879573876794813\n"
          ]
        }
      ],
      "source": [
        "_model.evaluate(X_test, y_test)\n",
        "_binary_predictions = [1 if p >= 0.5 else 0 for p in _model.predict(X_test)]\n",
        "\n",
        "print('Acurácia:', accuracy_score(_binary_predictions, y_test))\n",
        "print('Precisão:', precision_score(_binary_predictions, y_test))"
      ]
    },
    {
      "cell_type": "markdown",
      "metadata": {
        "id": "BnUJLU6NXFfB"
      },
      "source": [
        "#Matriz de confusão\n",
        "\n",
        "<p align=\"justify\">A matriz de confusão evidencia os bons resultados dos testes de validação, indicando a quantidade de verdadeiros positivos e verdadeiros negativos muitos altos e se aproximando bastante do seu valor total. Enquanto a quantidade de falsos negativos é um pouco maior que a quantidade de falsos positivos, indicando que o modelo final tem a tendencia de considerar notícias como falsas com mais facilidade do que o contrário.</p>"
      ]
    },
    {
      "cell_type": "code",
      "execution_count": null,
      "metadata": {
        "colab": {
          "base_uri": "https://localhost:8080/",
          "height": 659
        },
        "id": "OMtaH5dGtlGC",
        "outputId": "5e73fdb9-c6b4-4323-8535-6714f1ba59b4",
        "vscode": {
          "languageId": "python"
        }
      },
      "outputs": [
        {
          "data": {
            "text/plain": [
              "[Text(0, 0.5, '0'), Text(0, 1.5, '1')]"
            ]
          },
          "execution_count": 20,
          "metadata": {
            "tags": []
          },
          "output_type": "execute_result"
        },
        {
          "data": {
            "image/png": "[encoded data removed]",
            "text/plain": [
              "<Figure size 1152x720 with 2 Axes>"
            ]
          },
          "metadata": {
            "needs_background": "light",
            "tags": []
          },
          "output_type": "display_data"
        }
      ],
      "source": [
        "_matrix = confusion_matrix(_binary_predictions, y_test, normalize='all')\n",
        "plt.figure(figsize=(16, 10))\n",
        "ax = plt.subplot()\n",
        "sns.heatmap(_matrix, annot=True, ax = ax)\n",
        "\n",
        "ax.set_xlabel('Rótulos previstos', size=20)\n",
        "ax.set_ylabel('Rótulos verdadeiros', size=20)\n",
        "ax.set_title('Matriz de confusão', size=20) \n",
        "ax.xaxis.set_ticklabels([0,1], size=15)\n",
        "ax.yaxis.set_ticklabels([0,1], size=15)"
      ]
    }
  ],
  "metadata": {
    "colab": {
      "collapsed_sections": [],
      "name": "fake-news-detection",
      "provenance": []
    },
    "kernelspec": {
      "display_name": "Python 3",
      "name": "python3"
    }
  },
  "nbformat": 4,
  "nbformat_minor": 0
}
